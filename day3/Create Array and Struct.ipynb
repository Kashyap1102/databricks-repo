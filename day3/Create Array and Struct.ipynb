{
 "cells": [
  {
   "cell_type": "code",
   "execution_count": 0,
   "metadata": {
    "application/vnd.databricks.v1+cell": {
     "cellMetadata": {
      "byteLimit": 2048000,
      "rowLimit": 10000
     },
     "inputWidgets": {},
     "nuid": "f0f89294-1aed-4b9a-a165-58abf46a6043",
     "showTitle": false,
     "tableResultSettingsMap": {},
     "title": ""
    }
   },
   "outputs": [],
   "source": [
    "from pyspark.sql import Row\n",
    "\n",
    "dataArray = [Row(name=\"Sandeep\",skills=[\"Scala\",\"Python\",\"Communication\"]),\n",
    "             Row(name=\"Ravi\",skills=[\"Java\",\"Python\",\"C\"])]\n",
    "df = spark.createDataFrame(dataArray)\n",
    "df.show(truncate=True)"
   ]
  },
  {
   "cell_type": "code",
   "execution_count": 0,
   "metadata": {
    "application/vnd.databricks.v1+cell": {
     "cellMetadata": {
      "byteLimit": 2048000,
      "rowLimit": 10000
     },
     "inputWidgets": {},
     "nuid": "39399577-5ade-4a2f-87bc-ee31b043822e",
     "showTitle": false,
     "tableResultSettingsMap": {},
     "title": ""
    }
   },
   "outputs": [],
   "source": [
    "dataMap = [\n",
    "    Row(name=\"Sandeep\",scores={\"math\" : 90,\"science\":80,\"english\":70}),\n",
    "    Row(name=\"Ravi\",scores={\"math\":80,\"science\":70,\"english\":60})]\n",
    "df1 = spark.createDataFrame(dataMap)\n",
    "df1.show(truncate=True)"
   ]
  },
  {
   "cell_type": "code",
   "execution_count": 0,
   "metadata": {
    "application/vnd.databricks.v1+cell": {
     "cellMetadata": {
      "byteLimit": 2048000,
      "rowLimit": 10000
     },
     "inputWidgets": {},
     "nuid": "d85d007c-07ac-425a-a927-c1e7c775532a",
     "showTitle": false,
     "tableResultSettingsMap": {},
     "title": ""
    }
   },
   "outputs": [],
   "source": [
    "dataStruct = [Row(name=\"Sandeep\",address=Row(city=\"Bangalore\",state=\"Karnataka\")),\n",
    "              Row(name=\"Ravi\",address=Row(city=\"Mumbai\",state=\"Maharashtra\"))]\n",
    "df2 = spark.createDataFrame(dataStruct)\n",
    "df2.show(truncate=True)"
   ]
  }
 ],
 "metadata": {
  "application/vnd.databricks.v1+notebook": {
   "computePreferences": null,
   "dashboards": [],
   "environmentMetadata": {
    "base_environment": "",
    "environment_version": "3"
   },
   "inputWidgetPreferences": null,
   "language": "python",
   "notebookMetadata": {
    "pythonIndentUnit": 4
   },
   "notebookName": "Create Array and Struct",
   "widgets": {}
  },
  "language_info": {
   "name": "python"
  }
 },
 "nbformat": 4,
 "nbformat_minor": 0
}
